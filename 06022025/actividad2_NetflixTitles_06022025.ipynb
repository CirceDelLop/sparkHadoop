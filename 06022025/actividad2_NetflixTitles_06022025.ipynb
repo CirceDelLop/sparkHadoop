{
 "cells": [
  {
   "cell_type": "code",
   "execution_count": null,
   "id": "769acd2f-fc71-4e67-b0e8-e40da3ef06ca",
   "metadata": {},
   "outputs": [],
   "source": [
    "!pip install boto3"
   ]
  },
  {
   "cell_type": "code",
   "execution_count": 2,
   "id": "464aff10-637a-4458-8093-c603b2ea5f6c",
   "metadata": {},
   "outputs": [],
   "source": [
    "import boto3\n",
    "import tempfile\n",
    "from pyspark.sql import SparkSession\n",
    "\n",
    "spark = SparkSession.builder \\\n",
    "    .appName(\"NetflixAnalysisBoto3\") \\\n",
    "    .master(\"local[*]\") \\\n",
    "    .config(\"spark.executor.memory\", \"4g\") \\\n",
    "    .config(\"spark.driver.memory\", \"2g\") \\\n",
    "    .config(\"spark.executor.cores\", \"2\") \\\n",
    "    .config(\"spark.serializer\", \"org.apache.spark.serializer.KryoSerializer\") \\\n",
    "    .config(\"spark.sql.files.maxPartitionBytes\", \"128MB\") \\\n",
    "    .config(\"spark.sql.shuffle.partitions\", \"200\") \\\n",
    "    .config(\"spark.sql.execution.arrow.enabled\", \"true\") \\\n",
    "    .getOrCreate()"
   ]
  },
  {
   "cell_type": "code",
   "execution_count": 3,
   "id": "5e5abe49-8913-40b5-a01e-b597a414c3ab",
   "metadata": {},
   "outputs": [
    {
     "data": {
      "text/plain": [
       "'2'"
      ]
     },
     "execution_count": 3,
     "metadata": {},
     "output_type": "execute_result"
    }
   ],
   "source": [
    "spark.conf.get(\"spark.executor.cores\")"
   ]
  },
  {
   "cell_type": "code",
   "execution_count": 6,
   "id": "45ec7bea-4769-4491-b799-b5db6e4a31a7",
   "metadata": {},
   "outputs": [],
   "source": [
    "# Carga del archivo CSV a Spark\n",
    "netflix_titles = \"netflix_titles.csv\"\n",
    "df_netflix=spark.read.csv(netflix_titles,header=True,inferSchema=True)"
   ]
  },
  {
   "cell_type": "code",
   "execution_count": null,
   "id": "be6343dd-612c-4a71-8b6c-61997287cc4b",
   "metadata": {},
   "outputs": [],
   "source": [
    "df_netflix.show()"
   ]
  },
  {
   "cell_type": "code",
   "execution_count": 8,
   "id": "56cdbd07-5f0c-4a88-8970-cc64846be365",
   "metadata": {},
   "outputs": [
    {
     "name": "stdout",
     "output_type": "stream",
     "text": [
      "root\n",
      " |-- show_id: string (nullable = true)\n",
      " |-- type: string (nullable = true)\n",
      " |-- title: string (nullable = true)\n",
      " |-- director: string (nullable = true)\n",
      " |-- cast: string (nullable = true)\n",
      " |-- country: string (nullable = true)\n",
      " |-- date_added: string (nullable = true)\n",
      " |-- release_year: string (nullable = true)\n",
      " |-- rating: string (nullable = true)\n",
      " |-- duration: string (nullable = true)\n",
      " |-- listed_in: string (nullable = true)\n",
      " |-- description: string (nullable = true)\n",
      "\n"
     ]
    }
   ],
   "source": [
    "df_netflix.printSchema()"
   ]
  },
  {
   "cell_type": "code",
   "execution_count": 9,
   "id": "c170de06-6689-4c1c-a3cc-e9a546eda91b",
   "metadata": {},
   "outputs": [],
   "source": [
    "from pyspark.sql.functions import corr, col,count,when"
   ]
  },
  {
   "cell_type": "code",
   "execution_count": 12,
   "id": "42d9261e-f41a-45b1-bc1e-8a8fa6feb615",
   "metadata": {},
   "outputs": [
    {
     "name": "stdout",
     "output_type": "stream",
     "text": [
      "+-------------+-----+\n",
      "|         type|count|\n",
      "+-------------+-----+\n",
      "|         NULL|    1|\n",
      "|      TV Show| 2676|\n",
      "|        Movie| 6131|\n",
      "|William Wyler|    1|\n",
      "+-------------+-----+\n",
      "\n"
     ]
    }
   ],
   "source": [
    "df_netflix.groupBy(\"type\").count().show()"
   ]
  },
  {
   "cell_type": "code",
   "execution_count": 13,
   "id": "c3a6ed5d-f214-45f5-a765-6bf88c4a9906",
   "metadata": {},
   "outputs": [
    {
     "name": "stdout",
     "output_type": "stream",
     "text": [
      "+-------+--------------------+-----+\n",
      "|   type|            director|count|\n",
      "+-------+--------------------+-----+\n",
      "|  Movie|    Theodore Witcher|    1|\n",
      "|  Movie|         Paul Haggis|    2|\n",
      "|  Movie|     Dado C. Lumibao|    1|\n",
      "|  Movie|     Vishal Mahadkar|    1|\n",
      "|  Movie|   Jonathan Augustin|    1|\n",
      "|  Movie|        Ahmed Medhat|    1|\n",
      "|  Movie|  Naman Nitin Mukesh|    1|\n",
      "|TV Show|     Quek Shio-chuan|    1|\n",
      "|  Movie|            Muh Chen|    1|\n",
      "|  Movie|         David Mrnka|    1|\n",
      "|  Movie|       Peter Sattler|    1|\n",
      "|  Movie|      Richard Brooks|    1|\n",
      "|  Movie|        Tony Leondis|    1|\n",
      "|  Movie|         Sam O'Steen|    1|\n",
      "|  Movie|    Steven C. Miller|    3|\n",
      "|  Movie|         Tolga Örnek|    1|\n",
      "|  Movie|            Rana Eid|    1|\n",
      "|  Movie|            Sam Rega|    1|\n",
      "|  Movie|  Anand Ravichandran|    1|\n",
      "|  Movie|Tamas Yvan Topola...|    1|\n",
      "+-------+--------------------+-----+\n",
      "only showing top 20 rows\n",
      "\n"
     ]
    }
   ],
   "source": [
    "df_netflix.groupBy(\"type\",\"director\").count().show()"
   ]
  },
  {
   "cell_type": "code",
   "execution_count": 19,
   "id": "af23b623-61b2-4490-8e4e-6068f24c611b",
   "metadata": {},
   "outputs": [
    {
     "name": "stdout",
     "output_type": "stream",
     "text": [
      "+--------------------+-----+\n",
      "|              rating|count|\n",
      "+--------------------+-----+\n",
      "|    November 1, 2020|    1|\n",
      "|    Shavidee Trotter|    1|\n",
      "|       Adriane Lenox|    1|\n",
      "|                TV-Y|  307|\n",
      "|       Maury Chaykin|    1|\n",
      "|                2019|    1|\n",
      "|                2017|    1|\n",
      "|                  UR|    3|\n",
      "| Keppy Ekpenyong ...|    1|\n",
      "|      Benn Northover|    1|\n",
      "|Classic Movies, D...|    1|\n",
      "|                NULL|    6|\n",
      "|                  PG|  286|\n",
      "|         Jide Kosoko|    1|\n",
      "|               TV-MA| 3195|\n",
      "|     Jowharah Jones\"|    1|\n",
      "|            TV-Y7-FV|    6|\n",
      "|                2006|    1|\n",
      "|      Itziar Aizpuru|    1|\n",
      "|              84 min|    1|\n",
      "+--------------------+-----+\n",
      "only showing top 20 rows\n",
      "\n"
     ]
    }
   ],
   "source": [
    "df_netflix.groupBy(\"rating\").count().show()"
   ]
  },
  {
   "cell_type": "code",
   "execution_count": 20,
   "id": "ab1173cc-cfb2-47e0-a6fc-10d762013332",
   "metadata": {},
   "outputs": [
    {
     "name": "stdout",
     "output_type": "stream",
     "text": [
      "+-----------------+-----+\n",
      "|     release_year|count|\n",
      "+-----------------+-----+\n",
      "|     Ted Ferguson|    1|\n",
      "|             1987|    8|\n",
      "|             1956|    2|\n",
      "|             2016|  901|\n",
      "|             2020|  952|\n",
      "|             2012|  237|\n",
      "|             1958|    3|\n",
      "|           40 min|    1|\n",
      "|             1943|    3|\n",
      "|             1972|    5|\n",
      "| Marquell Manning|    1|\n",
      "|             1988|   18|\n",
      "|             2019| 1026|\n",
      "|             2017| 1030|\n",
      "|             1977|    7|\n",
      "|             2014|  352|\n",
      "|             1971|    5|\n",
      "|             1984|   12|\n",
      "|             2013|  288|\n",
      "|             1982|   17|\n",
      "+-----------------+-----+\n",
      "only showing top 20 rows\n",
      "\n"
     ]
    }
   ],
   "source": [
    "df_netflix.groupBy(\"release_year\").count().show()"
   ]
  },
  {
   "cell_type": "code",
   "execution_count": 21,
   "id": "696e5392-5a7a-40b2-b191-e621383a17ab",
   "metadata": {},
   "outputs": [
    {
     "name": "stdout",
     "output_type": "stream",
     "text": [
      "+------------------+-----+\n",
      "|        date_added|count|\n",
      "+------------------+-----+\n",
      "|      May 21, 2021|    8|\n",
      "|     March 2, 2021|    3|\n",
      "|September 23, 2020|    2|\n",
      "| September 8, 2020|    4|\n",
      "|    April 14, 2020|    2|\n",
      "| December 30, 2019|    1|\n",
      "|   August 12, 2019|    1|\n",
      "|     June 22, 2019|    2|\n",
      "|      May 30, 2017|    2|\n",
      "|    April 29, 2016|    2|\n",
      "|    March 25, 2016|    1|\n",
      "|  October 27, 2015|    1|\n",
      "|   January 1, 2008|    1|\n",
      "|     March 2, 2017|    2|\n",
      "|  October 31, 2015|    1|\n",
      "|     June 23, 2021|    5|\n",
      "|  November 1, 2020|   32|\n",
      "|  February 9, 2020|    3|\n",
      "| November 28, 2019|    6|\n",
      "|   October 5, 2019|    3|\n",
      "+------------------+-----+\n",
      "only showing top 20 rows\n",
      "\n"
     ]
    }
   ],
   "source": [
    "df_netflix.groupBy(\"date_added\").count().show()"
   ]
  }
 ],
 "metadata": {
  "kernelspec": {
   "display_name": "Python 3 (ipykernel)",
   "language": "python",
   "name": "python3"
  },
  "language_info": {
   "codemirror_mode": {
    "name": "ipython",
    "version": 3
   },
   "file_extension": ".py",
   "mimetype": "text/x-python",
   "name": "python",
   "nbconvert_exporter": "python",
   "pygments_lexer": "ipython3",
   "version": "3.11.6"
  }
 },
 "nbformat": 4,
 "nbformat_minor": 5
}
