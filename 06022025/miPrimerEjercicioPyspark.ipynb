{
 "cells": [
  {
   "cell_type": "markdown",
   "id": "77f30629-b12d-4c26-9947-77cfe1be4d28",
   "metadata": {},
   "source": [
    "## Mi primer ejercicio con pyspark"
   ]
  },
  {
   "cell_type": "code",
   "execution_count": null,
   "id": "88f6d829-6d2a-4f52-8400-7d3fa43571a0",
   "metadata": {},
   "outputs": [],
   "source": [
    "from pyspark.sql import SparkSession"
   ]
  },
  {
   "cell_type": "code",
   "execution_count": null,
   "id": "82d5a4c9-c71b-451e-b892-dd6f932fe0ba",
   "metadata": {},
   "outputs": [],
   "source": [
    "from pyspark.sql.functions import explode, split, col, regexp_replace,size"
   ]
  },
  {
   "cell_type": "code",
   "execution_count": null,
   "id": "5318cc04-4b54-4337-bf77-318a3bf81d04",
   "metadata": {},
   "outputs": [],
   "source": [
    "import requests"
   ]
  },
  {
   "cell_type": "code",
   "execution_count": null,
   "id": "bf9f85c9-7078-4360-a5d3-cf5d25dc9b99",
   "metadata": {},
   "outputs": [],
   "source": [
    "spark = SparkSession.builder.appName(\"Analaislibro\").getOrCreate()"
   ]
  },
  {
   "cell_type": "code",
   "execution_count": null,
   "id": "54bc1a05-217f-4246-88ad-579af4c7bc80",
   "metadata": {},
   "outputs": [],
   "source": [
    "url = \"https://www.gutenberg.org/cache/epub/28885/pg28885.txt\""
   ]
  },
  {
   "cell_type": "code",
   "execution_count": null,
   "id": "c81d1b4e-81ad-4350-98f0-bc66675d816c",
   "metadata": {},
   "outputs": [],
   "source": [
    "response=requests.get(url)\n",
    "libro_texto=response.text"
   ]
  },
  {
   "cell_type": "code",
   "execution_count": null,
   "id": "efd1e6e3-4316-4a73-8b19-bf604ff8692a",
   "metadata": {},
   "outputs": [],
   "source": [
    "libro_texto"
   ]
  },
  {
   "cell_type": "code",
   "execution_count": 36,
   "id": "58f9e375-2d6f-4e3b-8915-158a147bdb41",
   "metadata": {},
   "outputs": [],
   "source": [
    "with open(\"libro.txt\", \"w\", encoding=\"utf-8\") as file:\n",
    "    file.write(libro_texto)"
   ]
  },
  {
   "cell_type": "code",
   "execution_count": 37,
   "id": "6ab83858-1d06-4943-ae1f-f95ff2e592cd",
   "metadata": {},
   "outputs": [],
   "source": [
    "rdd = spark.sparkContext.textFile(\"libro.txt\")"
   ]
  },
  {
   "cell_type": "code",
   "execution_count": 38,
   "id": "790b13e1-6c1c-4f0a-b09e-1a6b67c938ff",
   "metadata": {},
   "outputs": [],
   "source": [
    "rdd = rdd.filter(lambda line: line.strip() !=\"\")"
   ]
  },
  {
   "cell_type": "code",
   "execution_count": 41,
   "id": "f0149ab2-35a8-480e-8b69-74ce2a7247a3",
   "metadata": {},
   "outputs": [],
   "source": [
    "capitulos = rdd.filter(lambda line: line.strip().startswith(\"CHAPTER\")).collect()\n",
    "parrafos = rdd.flatMap(lambda line: line.split(\"\\n\\n\"))"
   ]
  },
  {
   "cell_type": "code",
   "execution_count": 42,
   "id": "81cffd3d-e36f-4832-9105-c0f1a456cd91",
   "metadata": {},
   "outputs": [
    {
     "name": "stdout",
     "output_type": "stream",
     "text": [
      "+--------------------+\n",
      "|             parrafo|\n",
      "+--------------------+\n",
      "|The Project Guten...|\n",
      "|This ebook is for...|\n",
      "|most other parts ...|\n",
      "|whatsoever. You m...|\n",
      "|of the Project Gu...|\n",
      "|at www.gutenberg....|\n",
      "|you will have to ...|\n",
      "|before using this...|\n",
      "|Title: Alice's Ad...|\n",
      "|Author: Lewis Car...|\n",
      "|Contributor: Aust...|\n",
      "|Illustrator: Arth...|\n",
      "|Release date: May...|\n",
      "|                M...|\n",
      "|   Language: English|\n",
      "|Credits: Produced...|\n",
      "|        Proofread...|\n",
      "|        produced ...|\n",
      "|        Universit...|\n",
      "|*** START OF THE ...|\n",
      "+--------------------+\n",
      "only showing top 20 rows\n",
      "\n"
     ]
    }
   ],
   "source": [
    "df_parrafos = parrafos.map(lambda p: (p,)).toDF([\"parrafo\"])\n",
    "df_parrafos.show()"
   ]
  },
  {
   "cell_type": "code",
   "execution_count": 43,
   "id": "6cdc5b17-e47c-4511-9b89-9fa8c383e47a",
   "metadata": {},
   "outputs": [],
   "source": [
    "df_parrafos = df_parrafos.withColumn(\"parrafo_limpio\", regexp_replace(col(\"parrafo\"), \"[^a-zA-Z\\s]\", \"\").alias(\"parrafo_limpio\"))\n",
    "df_parrafos = df_parrafos.withColumn(\"parrafo_limpio\", regexp_replace(col(\"parrafo_limpio\"), \"\\s+\", \" \").alias(\"parrafo_limpio\"))"
   ]
  },
  {
   "cell_type": "code",
   "execution_count": 44,
   "id": "627775f8-be4d-4a30-895e-7c4bde0efd49",
   "metadata": {},
   "outputs": [],
   "source": [
    "df_parrafos = df_parrafos.withColumn(\"oraciones\", split(col(\"parrafo_limpio\"), \"\\.\"))\n",
    "df_parrafos = df_parrafos.withColumn(\"num_oraciones\", size(col(\"oraciones\")))\n",
    "df_parrafos = df_parrafos.withColumn(\"palabras\", split(col(\"parrafo_limpio\"), \" \"))\n",
    "df_parrafos = df_parrafos.withColumn(\"num_palabras\", size(col(\"palabras\")))"
   ]
  },
  {
   "cell_type": "code",
   "execution_count": 45,
   "id": "c9b33507-fbd9-441b-aae1-60e3c31295ad",
   "metadata": {},
   "outputs": [
    {
     "name": "stdout",
     "output_type": "stream",
     "text": [
      "+--------------------+--------------------+--------------------+-------------+--------------------+------------+\n",
      "|             parrafo|      parrafo_limpio|           oraciones|num_oraciones|            palabras|num_palabras|\n",
      "+--------------------+--------------------+--------------------+-------------+--------------------+------------+\n",
      "|The Project Guten...|The Project Guten...|[The Project Gute...|            1|[The, Project, Gu...|           9|\n",
      "|This ebook is for...|This ebook is for...|[This ebook is fo...|            1|[This, ebook, is,...|          14|\n",
      "|most other parts ...|most other parts ...|[most other parts...|            1|[most, other, par...|          14|\n",
      "|whatsoever. You m...|whatsoever You ma...|[whatsoever You m...|            1|[whatsoever, You,...|          14|\n",
      "|of the Project Gu...|of the Project Gu...|[of the Project G...|            1|[of, the, Project...|          11|\n",
      "|at www.gutenberg....|at wwwgutenbergor...|[at wwwgutenbergo...|            1|[at, wwwgutenberg...|          11|\n",
      "|you will have to ...|you will have to ...|[you will have to...|            1|[you, will, have,...|          14|\n",
      "|before using this...|before using this...|[before using thi...|            1|[before, using, t...|           4|\n",
      "|Title: Alice's Ad...|Title Alices Adve...|[Title Alices Adv...|            1|[Title, Alices, A...|           5|\n",
      "|Author: Lewis Car...|Author Lewis Carroll|[Author Lewis Car...|            1|[Author, Lewis, C...|           3|\n",
      "|Contributor: Aust...|Contributor Austi...|[Contributor Aust...|            1|[Contributor, Aus...|           3|\n",
      "|Illustrator: Arth...|Illustrator Arthu...|[Illustrator Arth...|            1|[Illustrator, Art...|           3|\n",
      "|Release date: May...|Release date May ...|[Release date May...|            1|[Release, date, M...|           5|\n",
      "|                M...| Most recently up...|[ Most recently u...|            1|[, Most, recently...|           6|\n",
      "|   Language: English|    Language English|  [Language English]|            1| [Language, English]|           2|\n",
      "|Credits: Produced...|Credits Produced ...|[Credits Produced...|            1|[Credits, Produce...|          10|\n",
      "|        Proofread...| Proofreading Tea...|[ Proofreading Te...|            1|[, Proofreading, ...|           8|\n",
      "|        produced ...| produced from im...|[ produced from i...|            1|[, produced, from...|           9|\n",
      "|        Universit...| University of Fl...|[ University of F...|            1|[, University, of...|           6|\n",
      "|*** START OF THE ...| START OF THE PRO...|[ START OF THE PR...|            1|[, START, OF, THE...|          12|\n",
      "+--------------------+--------------------+--------------------+-------------+--------------------+------------+\n",
      "only showing top 20 rows\n",
      "\n"
     ]
    }
   ],
   "source": [
    "df_parrafos.show()"
   ]
  },
  {
   "cell_type": "code",
   "execution_count": null,
   "id": "0b1f2aab-6c82-4d02-88ad-dbe7f757c265",
   "metadata": {},
   "outputs": [],
   "source": []
  }
 ],
 "metadata": {
  "kernelspec": {
   "display_name": "Python 3 (ipykernel)",
   "language": "python",
   "name": "python3"
  },
  "language_info": {
   "codemirror_mode": {
    "name": "ipython",
    "version": 3
   },
   "file_extension": ".py",
   "mimetype": "text/x-python",
   "name": "python",
   "nbconvert_exporter": "python",
   "pygments_lexer": "ipython3",
   "version": "3.11.6"
  }
 },
 "nbformat": 4,
 "nbformat_minor": 5
}
