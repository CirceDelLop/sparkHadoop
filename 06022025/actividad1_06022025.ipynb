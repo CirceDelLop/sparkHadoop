{
 "cells": [
  {
   "cell_type": "markdown",
   "id": "66daf127-af65-4946-a5a7-94f23b2ac7a0",
   "metadata": {},
   "source": [
    "## Actividad 1 06/04/2025"
   ]
  },
  {
   "cell_type": "markdown",
   "id": "2a7d5c5e-6a93-437e-9115-2d1d2ae3555d",
   "metadata": {},
   "source": [
    "#### Importación de librerias"
   ]
  },
  {
   "cell_type": "code",
   "execution_count": 2,
   "id": "df235c6e-e855-4b89-8bde-3c1530b28bc0",
   "metadata": {},
   "outputs": [],
   "source": [
    "from pyspark.sql import SparkSession\n",
    "from pyspark.sql.functions import explode, split, col, regexp_replace, size\n",
    "import requests"
   ]
  },
  {
   "cell_type": "markdown",
   "id": "86c937eb-71c2-41b3-8cf7-00e37da29f59",
   "metadata": {},
   "source": [
    "#### Creación de sesión de Spark"
   ]
  },
  {
   "cell_type": "code",
   "execution_count": 3,
   "id": "deef5f84-8ce6-48f8-b631-1789ee72d743",
   "metadata": {},
   "outputs": [],
   "source": [
    "spark = SparkSession.builder.appName(\"Analaislibro\").getOrCreate()"
   ]
  },
  {
   "cell_type": "markdown",
   "id": "7c040fee-7440-4a79-badf-912bc6454eba",
   "metadata": {},
   "source": [
    "#### Descarga del libro desde Gutenberg"
   ]
  },
  {
   "cell_type": "code",
   "execution_count": 4,
   "id": "2a5beb81-3932-48a3-bc7f-a9a54820e10b",
   "metadata": {},
   "outputs": [],
   "source": [
    "url = \"https://www.gutenberg.org/cache/epub/67126/pg67126.txt\""
   ]
  },
  {
   "cell_type": "code",
   "execution_count": 6,
   "id": "5ee8847c-1faf-4bc9-84b9-977826f100d1",
   "metadata": {},
   "outputs": [],
   "source": [
    "response = requests.get(url) #Solicitud get para descargar el archivo y guardalo en response \n",
    "libro_texto = response.text #response.text contiene el contenido del archivo descargado y se guarda en libro_texto"
   ]
  },
  {
   "cell_type": "markdown",
   "id": "80bf247c-1f61-4c1d-acfe-add93e86bc76",
   "metadata": {},
   "source": [
    "#### Guargar el contenido del libro en un archivo local"
   ]
  },
  {
   "cell_type": "code",
   "execution_count": 7,
   "id": "0eac5eb3-051b-4b8d-a4b0-d803a5dd27d2",
   "metadata": {},
   "outputs": [],
   "source": [
    "with open(\"libro.txt\", \"w\", encoding=\"utf-8\") as file:\n",
    "    file.write(libro_texto) #Guarda (con codificación UTF-8) el contenido descargado del libro en un archivo local llamado libro.txt"
   ]
  },
  {
   "cell_type": "markdown",
   "id": "7c51d010-cb69-4255-bcb0-e42c3645cd26",
   "metadata": {},
   "source": [
    "#### Crear un RDD a partir del archivo de texto descargado"
   ]
  },
  {
   "cell_type": "code",
   "execution_count": 9,
   "id": "b5d90dfe-cb79-4b6f-9f22-e8f3984a5713",
   "metadata": {},
   "outputs": [],
   "source": [
    "rdd = spark.sparkContext.textFile(\"libro.txt\") #Carga el archivo libro.txt como un RDD (Resilient Distributed Dataset). Cada línea del archivo será un elemento en el RDD."
   ]
  },
  {
   "cell_type": "markdown",
   "id": "7ad8e8ad-9009-454d-af03-952e99bf4b92",
   "metadata": {},
   "source": [
    "#### Filtrar líneas vacías"
   ]
  },
  {
   "cell_type": "code",
   "execution_count": 10,
   "id": "be6352f9-d820-44ac-80f2-3e217347c8de",
   "metadata": {},
   "outputs": [],
   "source": [
    "rdd = rdd.filter(lambda line: line.strip() != \"\") #line.strip() elimina los espacios y != \"\" asegura que solo queden las líneas con contenido."
   ]
  },
  {
   "cell_type": "markdown",
   "id": "28328e9f-ccf4-4dbb-8e9e-8a57c07e55b3",
   "metadata": {},
   "source": [
    "#### Filtrar los capítulos del libro"
   ]
  },
  {
   "cell_type": "code",
   "execution_count": 11,
   "id": "546e40c5-ec36-4d03-aeb8-30f9da89326d",
   "metadata": {},
   "outputs": [],
   "source": [
    "capitulos = rdd.filter(lambda line: line.strip().startswith(\"CHAPTER\")).collect() #filtran las líneas que empiezan con la palabra \"CHAPTER\". El resultado se almacena en capitulos"
   ]
  },
  {
   "cell_type": "markdown",
   "id": "6a7373c9-9dcf-436e-be14-b0b6fc1052fd",
   "metadata": {},
   "source": [
    "#### Dividir el texto en párrafos"
   ]
  },
  {
   "cell_type": "code",
   "execution_count": 12,
   "id": "a09ab8b0-fa57-4ab0-af6d-6e34fdc5fc18",
   "metadata": {},
   "outputs": [],
   "source": [
    "parrafos = rdd.flatMap(lambda line: line.split(\"\\n\\n\")) #flatMap divide cada línea en párrafos, asumiendo que los párrafos están separados por dos saltos de línea (\\n\\n). flatMap aplana el resultado, generando una lista de párrafos en lugar de una lista de listas."
   ]
  },
  {
   "cell_type": "markdown",
   "id": "6daf4568-baa6-4ca8-b355-d3cda96e0e95",
   "metadata": {},
   "source": [
    "#### Crear un DataFrame con los párrafos"
   ]
  },
  {
   "cell_type": "code",
   "execution_count": 13,
   "id": "6d428a51-4d01-4dfc-9919-d4a73daf4117",
   "metadata": {},
   "outputs": [
    {
     "name": "stdout",
     "output_type": "stream",
     "text": [
      "+--------------------+\n",
      "|             parrafo|\n",
      "+--------------------+\n",
      "|The Project Guten...|\n",
      "|This ebook is for...|\n",
      "|most other parts ...|\n",
      "|whatsoever. You m...|\n",
      "|of the Project Gu...|\n",
      "|at www.gutenberg....|\n",
      "|you will have to ...|\n",
      "|before using this...|\n",
      "|Title: El caballe...|\n",
      "|Author: Benito Pé...|\n",
      "|Release date: Jan...|\n",
      "|                M...|\n",
      "|   Language: Spanish|\n",
      "|Original publicat...|\n",
      "|Credits: Ramón Pa...|\n",
      "|*** START OF THE ...|\n",
      "|NOTA DE TRANSCRIP...|\n",
      "|  * Las cursivas ...|\n",
      "|    acotaciones e...|\n",
      "|    convertido a ...|\n",
      "+--------------------+\n",
      "only showing top 20 rows\n",
      "\n"
     ]
    }
   ],
   "source": [
    "df_parrafos = parrafos.map(lambda p: (p,)).toDF([\"parrafo\"]) #Se convierte el RDD parrafos en un DataFrame, cada elemento (párrafo) será una fila. Se le da el nombre de columna \"parrafo\".\n",
    "df_parrafos.show() #Imprime el DataFrame"
   ]
  },
  {
   "cell_type": "markdown",
   "id": "109aea7a-a8a6-48dc-8861-914193082851",
   "metadata": {},
   "source": [
    "#### Limpiar los párrafos"
   ]
  },
  {
   "cell_type": "code",
   "execution_count": 14,
   "id": "5f4db9d6-ca7f-4658-9336-709e5fa88290",
   "metadata": {},
   "outputs": [],
   "source": [
    "df_parrafos = df_parrafos.withColumn(\"parrafo_limpio\", regexp_replace(col(\"parrafo\"), \"[^a-zA-Z\\s]\", \"\").alias(\"parrafo_limpio\")) #Se crea una nueva columna parrafo_limpio utilizando regexp_replace. Elimina cualquier carácter no alfabético ni espacio (números, puntuación y otros caracteres no deseados)."
   ]
  },
  {
   "cell_type": "markdown",
   "id": "bc7a5704-b548-4e4f-86c4-2d43a021a44a",
   "metadata": {},
   "source": [
    "#### Reemplazar múltiples espacios por uno solo"
   ]
  },
  {
   "cell_type": "code",
   "execution_count": 15,
   "id": "90e2de22-7b15-48e4-8e32-2173aefb787f",
   "metadata": {},
   "outputs": [],
   "source": [
    "df_parrafos = df_parrafos.withColumn(\"parrafo_limpio\", regexp_replace(col(\"parrafo_limpio\"), \"\\s+\", \" \").alias(\"parrafo_limpio\")) #Se reemplazan los múltiples espacios consecutivos por un único espacio."
   ]
  },
  {
   "cell_type": "markdown",
   "id": "acb02109-42a1-4cb1-a532-a631a6f6d6aa",
   "metadata": {},
   "source": [
    "#### Separar los párrafos en oraciones"
   ]
  },
  {
   "cell_type": "code",
   "execution_count": 16,
   "id": "ef401dab-404f-4408-8d1b-c631900f5ea5",
   "metadata": {},
   "outputs": [],
   "source": [
    "df_parrafos = df_parrafos.withColumn(\"oraciones\", split(col(\"parrafo_limpio\"), \"\\.\")) #Se crea una nueva columna llamada oraciones, en la que se separan los párrafos limpios en oraciones, utilizando el punto (.) como delimitador."
   ]
  },
  {
   "cell_type": "markdown",
   "id": "1c1c173a-a23c-4c41-97b5-5aa2a754f5b5",
   "metadata": {},
   "source": [
    "#### Contar el número de oraciones por párrafo"
   ]
  },
  {
   "cell_type": "code",
   "execution_count": 17,
   "id": "bc0b8468-432c-4dc2-b261-f38cbda09437",
   "metadata": {},
   "outputs": [],
   "source": [
    "df_parrafos = df_parrafos.withColumn(\"num_oraciones\", size(col(\"oraciones\"))) #Se calcula el número de oraciones en cada párrafo utilizando la función size(), que devuelve el tamaño de la lista generada por split()."
   ]
  },
  {
   "cell_type": "markdown",
   "id": "d5458d7c-e41f-488e-bf90-02d831e9ae60",
   "metadata": {},
   "source": [
    "#### Separar los párrafos en palabras"
   ]
  },
  {
   "cell_type": "code",
   "execution_count": 18,
   "id": "891358f4-d360-409c-9dfc-60f5be75baf2",
   "metadata": {},
   "outputs": [],
   "source": [
    "df_parrafos = df_parrafos.withColumn(\"palabras\", split(col(\"parrafo_limpio\"), \" \")) #Se crea una nueva columna palabras, que contiene una lista de palabras por cada párrafo."
   ]
  },
  {
   "cell_type": "markdown",
   "id": "4ce9ea43-92df-4419-96d5-287f7a21411b",
   "metadata": {},
   "source": [
    "#### Contar el número de palabras por párrafo"
   ]
  },
  {
   "cell_type": "code",
   "execution_count": 19,
   "id": "6f978810-7b39-4512-b73b-5cafe1110881",
   "metadata": {},
   "outputs": [],
   "source": [
    "df_parrafos = df_parrafos.withColumn(\"num_palabras\", size(col(\"palabras\"))) #Se calcula el número de palabras en cada párrafo con la función size()."
   ]
  },
  {
   "cell_type": "markdown",
   "id": "5cad38f9-2de9-431f-a094-8250c30fdac2",
   "metadata": {},
   "source": [
    "#### Mostrar el DataFrame final"
   ]
  },
  {
   "cell_type": "code",
   "execution_count": null,
   "id": "f59660f0-a1a7-4a2b-ac56-079e879fb511",
   "metadata": {},
   "outputs": [],
   "source": [
    "df_parrafos.show() #Muestra el DataFrame final con todas las columnas."
   ]
  }
 ],
 "metadata": {
  "kernelspec": {
   "display_name": "Python 3 (ipykernel)",
   "language": "python",
   "name": "python3"
  },
  "language_info": {
   "codemirror_mode": {
    "name": "ipython",
    "version": 3
   },
   "file_extension": ".py",
   "mimetype": "text/x-python",
   "name": "python",
   "nbconvert_exporter": "python",
   "pygments_lexer": "ipython3",
   "version": "3.11.6"
  }
 },
 "nbformat": 4,
 "nbformat_minor": 5
}
